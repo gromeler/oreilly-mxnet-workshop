{
 "cells": [
  {
   "cell_type": "code",
   "execution_count": 1,
   "metadata": {},
   "outputs": [],
   "source": [
    "import warnings\n",
    "warnings.filterwarnings('ignore')"
   ]
  },
  {
   "cell_type": "markdown",
   "metadata": {},
   "source": [
    "# Apache MXNet GLUON\n"
   ]
  },
  {
   "cell_type": "markdown",
   "metadata": {},
   "source": [
    "## What is GLUON?\n",
    "\n",
    "* MXNet's Python API\n"
    "\n",
    "## GLUON is Imperative\n",
    "\n",
    "* Deep Learning frameworks usually have two modes of APIs\n",
    "    * **Symbolic** (older): Define the neural network graph fully, compile and execute\n",
    "    * **Imperative** (most recent). Graph is constructed dynamically under the hood by the engine giving users flexibility to run the code as you start constructing the graph.\n",
    "\n",
    "* **Imperative mode** is useful in **model training** as you are experimenting and will have need to **debug easily**. It will be very similar to writing a program in Python!\n",
    "\n",
    "* **Symbolic mode** is useful in **model inference** because with pre-trained model you will already know graph structure and there is very limited, if there are any, debugging. Moreover, since the engine will know complete graph structure, it provides various intelligent **performance optimization** which is critical in inference servers.\n"
   ]
  },
  {
   "cell_type": "markdown",
   "metadata": {},
   "source": [
    "# NDArray\n",
    "\n",
    "* Data structure => **Data + Operations**\n",
    "* Supports CPU and GPU\n",
    "* Multi Dimensional Array of numbers\n",
    "* Also called as Tensor\n",
    "* NDArray => N Dimensional Array\n",
    "* Primary building block for deep learning frameworks like MXNet"
   ]
  },
  {
   "cell_type": "markdown",
   "metadata": {},
   "source": [
    "## Import NDArray"
   ]
  },
  {
   "cell_type": "code",
   "execution_count": 2,
   "metadata": {},
   "outputs": [],
   "source": [
    "import mxnet as mx\n",
    "from mxnet import nd"
   ]
  },
  {
   "cell_type": "markdown",
   "metadata": {},
   "source": [
    "##  2D Tensor (Matrix)"
   ]
  },
  {
   "cell_type": "code",
   "execution_count": 3,
   "metadata": {},
   "outputs": [
    {
     "name": "stdout",
     "output_type": "stream",
     "text": [
      "\n",
      "[[0. 0. 0.]\n",
      " [0. 0. 0.]]\n",
      "<NDArray 2x3 @cpu(0)>\n"
     ]
    }
   ],
   "source": [
    "# (2X3) Matrix of zeros\n",
    "zeros_2d = nd.zeros(shape=(2,3))\n",
    "print(zeros_2d)"
   ]
  },
  {
   "cell_type": "code",
   "execution_count": 4,
   "metadata": {},
   "outputs": [
    {
     "name": "stdout",
     "output_type": "stream",
     "text": [
      "\n",
      "[[1. 1. 1.]\n",
      " [1. 1. 1.]]\n",
      "<NDArray 2x3 @cpu(0)>\n"
     ]
    }
   ],
   "source": [
    "# (2X3) Matrix of ones\n",
    "ones_2d = nd.ones(shape=(2,3))\n",
    "print(ones_2d)"
   ]
  },
  {
   "cell_type": "code",
   "execution_count": 5,
   "metadata": {},
   "outputs": [
    {
     "name": "stdout",
     "output_type": "stream",
     "text": [
      "\n",
      "[[1. 2. 3.]\n",
      " [4. 5. 6.]]\n",
      "<NDArray 2x3 @cpu(0)>\n"
     ]
    }
   ],
   "source": [
    "# (2X3) Matrix of specific numbers\n",
    "mytensor_2d = nd.array(((1,2,3),(4,5,6)))\n",
    "print(mytensor_2d)"
   ]
  },
  {
   "cell_type": "code",
   "execution_count": 6,
   "metadata": {},
   "outputs": [
    {
     "name": "stdout",
     "output_type": "stream",
     "text": [
      "\n",
      "[[1.5488136 1.5928446 1.7151893]\n",
      " [1.8442657 1.6027634 1.8579457]]\n",
      "<NDArray 2x3 @cpu(0)>\n"
     ]
    }
   ],
   "source": [
    "# (2X3) Matrix of random numbers\n",
    "random_2d = nd.random.uniform(low=1, high=2, shape=(2,3))\n",
    "print(random_2d)"
   ]
  },
  {
   "cell_type": "markdown",
   "metadata": {},
   "source": [
    "# 3D Tensor"
   ]
  },
  {
   "cell_type": "code",
   "execution_count": 7,
   "metadata": {},
   "outputs": [
    {
     "name": "stdout",
     "output_type": "stream",
     "text": [
      "\n",
      "[[[0. 0. 0.]\n",
      "  [0. 0. 0.]]\n",
      "\n",
      " [[0. 0. 0.]\n",
      "  [0. 0. 0.]]]\n",
      "<NDArray 2x2x3 @cpu(0)>\n"
     ]
    }
   ],
   "source": [
    "# (2X2X3) 3D Tensor of zeros\n",
    "zeros_3d = nd.zeros(shape=(2,2,3))\n",
    "print(zeros_3d)"
   ]
  },
  {
   "cell_type": "code",
   "execution_count": 8,
   "metadata": {},
   "outputs": [
    {
     "name": "stdout",
     "output_type": "stream",
     "text": [
      "\n",
      "[[[1. 1. 1.]\n",
      "  [1. 1. 1.]]\n",
      "\n",
      " [[1. 1. 1.]\n",
      "  [1. 1. 1.]]]\n",
      "<NDArray 2x2x3 @cpu(0)>\n"
     ]
    }
   ],
   "source": [
    "# (2X2X3) 3D Tensor of ones\n",
    "ones_3d = nd.ones(shape=(2,2,3))\n",
    "print(ones_3d)"
   ]
  },
  {
   "cell_type": "code",
   "execution_count": 9,
   "metadata": {},
   "outputs": [
    {
     "name": "stdout",
     "output_type": "stream",
     "text": [
      "\n",
      "[[[ 1.  2.  3.]\n",
      "  [ 4.  5.  6.]]\n",
      "\n",
      " [[ 7.  8.  9.]\n",
      "  [10. 11. 12.]]]\n",
      "<NDArray 2x2x3 @cpu(0)>\n"
     ]
    }
   ],
   "source": [
    "# (2X2X3) 3D Tensor of specific numbers\n",
    "mytensor_3d = nd.array((((1,2,3),(4,5,6)), ((7,8,9),(10,11,12))))\n",
    "print(mytensor_3d)"
   ]
  },
  {
   "cell_type": "code",
   "execution_count": 10,
   "metadata": {},
   "outputs": [
    {
     "name": "stdout",
     "output_type": "stream",
     "text": [
      "\n",
      "[[[1.5448833 1.8472517 1.4236548]\n",
      "  [1.6235638 1.645894  1.3843818]]\n",
      "\n",
      " [[1.4375873 1.2975346 1.891773 ]\n",
      "  [1.056713  1.9636627 1.2726563]]]\n",
      "<NDArray 2x2x3 @cpu(0)>\n"
     ]
    }
   ],
   "source": [
    "# (2X2X3) 3D Tensor of random numbers\n",
    "random_3d = nd.random.uniform(low=1, high=2, shape=(2,2,3))\n",
    "print(random_3d)"
   ]
  },
  {
   "cell_type": "markdown",
   "metadata": {},
   "source": [
    "# Important NDArray Attributes"
   ]
  },
  {
   "cell_type": "markdown",
   "metadata": {},
   "source": [
    "* shape\n",
    "* dtype\n",
    "* size"
   ]
  },
  {
   "cell_type": "code",
   "execution_count": 11,
   "metadata": {},
   "outputs": [
    {
     "data": {
      "text/plain": [
       "(2, 2, 3)"
      ]
     },
     "execution_count": 11,
     "metadata": {},
     "output_type": "execute_result"
    }
   ],
   "source": [
    "random_3d.shape"
   ]
  },
  {
   "cell_type": "code",
   "execution_count": 12,
   "metadata": {},
   "outputs": [
    {
     "data": {
      "text/plain": [
       "numpy.float32"
      ]
     },
     "execution_count": 12,
     "metadata": {},
     "output_type": "execute_result"
    }
   ],
   "source": [
    "random_3d.dtype"
   ]
  },
  {
   "cell_type": "code",
   "execution_count": 13,
   "metadata": {},
   "outputs": [
    {
     "data": {
      "text/plain": [
       "12"
      ]
     },
     "execution_count": 13,
     "metadata": {},
     "output_type": "execute_result"
    }
   ],
   "source": [
    "random_3d.size"
   ]
  },
  {
   "cell_type": "markdown",
   "metadata": {},
   "source": [
    "# NDArray Operations"
   ]
  },
  {
   "cell_type": "markdown",
   "metadata": {},
   "source": [
    "## Single Tensor Operations"
   ]
  },
  {
   "cell_type": "code",
   "execution_count": 14,
   "metadata": {},
   "outputs": [
    {
     "name": "stdout",
     "output_type": "stream",
     "text": [
      "\n",
      "[[[1.5448833 1.4375873]\n",
      "  [1.6235638 1.056713 ]]\n",
      "\n",
      " [[1.8472517 1.2975346]\n",
      "  [1.645894  1.9636627]]\n",
      "\n",
      " [[1.4236548 1.891773 ]\n",
      "  [1.3843818 1.2726563]]]\n",
      "<NDArray 3x2x2 @cpu(0)>\n"
     ]
    }
   ],
   "source": [
    "# Transpose\n",
    "print(nd.transpose(data=random_3d))\n",
    "\n",
    "# This is also equivalent of directly calling on the tensor\n",
    "# print(random_3d.T)"
   ]
  },
  {
   "cell_type": "code",
   "execution_count": 15,
   "metadata": {},
   "outputs": [
    {
     "name": "stdout",
     "output_type": "stream",
     "text": [
      "Default - float32\n",
      "\n",
      "[[[1.5448833 1.8472517 1.4236548]\n",
      "  [1.6235638 1.645894  1.3843818]]\n",
      "\n",
      " [[1.4375873 1.2975346 1.891773 ]\n",
      "  [1.056713  1.9636627 1.2726563]]]\n",
      "<NDArray 2x2x3 @cpu(0)>\n",
      "\n",
      "\n",
      "Casted to - int32\n",
      "\n",
      "[[[1 1 1]\n",
      "  [1 1 1]]\n",
      "\n",
      " [[1 1 1]\n",
      "  [1 1 1]]]\n",
      "<NDArray 2x2x3 @cpu(0)>\n"
     ]
    }
   ],
   "source": [
    "# Casting dtype\n",
    "print(\"Default - float32\")\n",
    "print(random_3d)\n",
    "random_3d_int = nd.cast(data=random_3d, dtype='int32')\n",
    "print(\"\\n\\nCasted to - int32\")\n",
    "print(random_3d_int)"
   ]
  },
  {
   "cell_type": "code",
   "execution_count": 16,
   "metadata": {},
   "outputs": [
    {
     "name": "stdout",
     "output_type": "stream",
     "text": [
      "\n",
      "[[1.5488136 1.5928446 1.7151893]\n",
      " [1.8442657 1.6027634 1.8579457]]\n",
      "<NDArray 2x3 @cpu(0)>\n",
      "\n",
      "[[2.]\n",
      " [2.]]\n",
      "<NDArray 2x1 @cpu(0)>\n"
     ]
    }
   ],
   "source": [
    "# Top K\n",
    "print(random_2d)\n",
    "\n",
    "top_k = nd.topk(data=random_2d, k=1)\n",
    "print(top_k)"
   ]
  },
  {
   "cell_type": "code",
   "execution_count": 17,
   "metadata": {},
   "outputs": [
    {
     "name": "stdout",
     "output_type": "stream",
     "text": [
      "Before Reshape\n",
      "\n",
      "[[1.5488136 1.5928446 1.7151893]\n",
      " [1.8442657 1.6027634 1.8579457]]\n",
      "<NDArray 2x3 @cpu(0)>\n",
      "\n",
      "After Reshape\n",
      "\n",
      "[[1.5488136 1.5928446 1.7151893 1.8442657 1.6027634 1.8579457]]\n",
      "<NDArray 1x6 @cpu(0)>\n"
     ]
    }
   ],
   "source": [
    "# Reshape\n",
    "print(\"Before Reshape\")\n",
    "print(random_2d)\n",
    "\n",
    "print(\"\\nAfter Reshape\")\n",
    "random_2d_reshaped = nd.reshape(data=random_2d, shape=(1, 6))\n",
    "print(random_2d_reshaped)"
   ]
  },
  {
   "cell_type": "markdown",
   "metadata": {},
   "source": [
    "# Multi Tensor Operations"
   ]
  },
  {
   "cell_type": "code",
   "execution_count": 18,
   "metadata": {},
   "outputs": [
    {
     "name": "stdout",
     "output_type": "stream",
     "text": [
      "\n",
      "[[12. 12. 12.]\n",
      " [12. 12. 12.]\n",
      " [12. 12. 12.]]\n",
      "<NDArray 3x3 @cpu(0)>\n"
     ]
    }
   ],
   "source": [
    "# (3X2) . (2X3) => (3X3)\n",
    "\n",
    "# Tensor1 - (3X2) tensor\n",
    "tensor1 = nd.array(((2,2), (2,2), (2,2)))\n",
    "\n",
    "# Tensor2 - (2X3) tensor\n",
    "tensor2 = nd.array(((3,3,3), (3,3,3)))\n",
    "\n",
    "# Do the dot product\n",
    "dot_result = nd.dot(lhs=tensor1, rhs=tensor2)\n",
    "print(dot_result)"
   ]
  },
  {
   "cell_type": "markdown",
   "metadata": {},
   "source": [
    "## Elementwise - Add, Subtract, Multiply...\n",
    "\n",
    "Elementwise operations requires same shape tensors"
   ]
  },
  {
   "cell_type": "code",
   "execution_count": 19,
   "metadata": {},
   "outputs": [
    {
     "name": "stdout",
     "output_type": "stream",
     "text": [
      "\n",
      "[[7. 7.]\n",
      " [7. 7.]\n",
      " [7. 7.]]\n",
      "<NDArray 3x2 @cpu(0)>\n"
     ]
    }
   ],
   "source": [
    "# Tensor1 - (3X2) tensor\n",
    "tensor1 = nd.array(((2,2), (2,2), (2,2)))\n",
    "# Tensor2 - (3X2) tensor\n",
    "tensor2 = nd.array(((5,5), (5,5), (5,5)))\n",
    "\n",
    "add_result = nd.add(lhs=tensor1, rhs=tensor2)\n",
    "print(add_result)"
   ]
  },
  {
   "cell_type": "code",
   "execution_count": 20,
   "metadata": {},
   "outputs": [
    {
     "name": "stdout",
     "output_type": "stream",
     "text": [
      "\n",
      "[[-3. -3.]\n",
      " [-3. -3.]\n",
      " [-3. -3.]]\n",
      "<NDArray 3x2 @cpu(0)>\n"
     ]
    }
   ],
   "source": [
    "# Tensor1 - (3X2) tensor\n",
    "tensor1 = nd.array(((2,2), (2,2), (2,2)))\n",
    "# Tensor2 - (3X2) tensor\n",
    "tensor2 = nd.array(((5,5), (5,5), (5,5)))\n",
    "\n",
    "sub_result = nd.subtract(lhs=tensor1, rhs=tensor2)\n",
    "print(sub_result)"
   ]
  },
  {
   "cell_type": "code",
   "execution_count": 21,
   "metadata": {},
   "outputs": [
    {
     "name": "stdout",
     "output_type": "stream",
     "text": [
      "\n",
      "[[10. 10.]\n",
      " [10. 10.]\n",
      " [10. 10.]]\n",
      "<NDArray 3x2 @cpu(0)>\n"
     ]
    }
   ],
   "source": [
    "# Tensor1 - (3X2) tensor\n",
    "tensor1 = nd.array(((2,2), (2,2), (2,2)))\n",
    "# Tensor2 - (3X2) tensor\n",
    "tensor2 = nd.array(((5,5), (5,5), (5,5)))\n",
    "\n",
    "# NOTE: Elementwise multiplication is NOT same as dot product!\n",
    "mul_result = nd.multiply(lhs=tensor1, rhs=tensor2)\n",
    "print(mul_result)"
   ]
  },
  {
   "cell_type": "markdown",
   "metadata": {},
   "source": [
    "## Broadcast operations - Add, Subtract, Multiply..."
   ]
  },
  {
   "cell_type": "code",
   "execution_count": 22,
   "metadata": {},
   "outputs": [
    {
     "name": "stdout",
     "output_type": "stream",
     "text": [
      "\n",
      "[[5. 5.]\n",
      " [5. 5.]\n",
      " [5. 5.]]\n",
      "<NDArray 3x2 @cpu(0)>\n"
     ]
    }
   ],
   "source": [
    "# Tensor1 - (3X2) tensor\n",
    "tensor1 = nd.array((2,2,2,2,2,2)).reshape((3,2))\n",
    "\n",
    "# Tensor2 - (2X1) tensor\n",
    "tensor2 = nd.array((3,3,3)).reshape((3,1))\n",
    "\n",
    "# Broadcast Tensor2 onto Tensor1 over axis 1 \n",
    "add_result = nd.broadcast_add(lhs=tensor1, rhs=tensor2)\n",
    "print(add_result)"
   ]
  },
  {
   "cell_type": "markdown",
   "metadata": {},
   "source": [
    "# Image as Tensor\n",
    "\n",
    "* Everything in deep learning will be represented as Tensor i.e., NDArray\n",
    "* Below, you see how an image is loaded as an NDArray"
   ]
  },
  {
   "cell_type": "code",
   "execution_count": 23,
   "metadata": {},
   "outputs": [
    {
     "name": "stdout",
     "output_type": "stream",
     "text": [
      "\n",
      "[[[255 255 255]\n",
      "  [255 255 255]\n",
      "  [255 255 255]\n",
      "  ...\n",
      "  [255 255 255]\n",
      "  [255 255 255]\n",
      "  [255 255 255]]\n",
      "\n",
      " [[255 255 255]\n",
      "  [255 255 255]\n",
      "  [255 255 255]\n",
      "  ...\n",
      "  [255 255 255]\n",
      "  [255 255 255]\n",
      "  [255 255 255]]\n",
      "\n",
      " [[255 255 255]\n",
      "  [255 255 255]\n",
      "  [255 255 255]\n",
      "  ...\n",
      "  [255 255 255]\n",
      "  [255 255 255]\n",
      "  [255 255 255]]\n",
      "\n",
      " ...\n",
      "\n",
      " [[255 255 255]\n",
      "  [255 255 255]\n",
      "  [255 255 255]\n",
      "  ...\n",
      "  [255 255 255]\n",
      "  [255 255 255]\n",
      "  [255 255 255]]\n",
      "\n",
      " [[255 255 255]\n",
      "  [255 255 255]\n",
      "  [255 255 255]\n",
      "  ...\n",
      "  [255 255 255]\n",
      "  [255 255 255]\n",
      "  [255 255 255]]\n",
      "\n",
      " [[255 255 255]\n",
      "  [255 255 255]\n",
      "  [255 255 255]\n",
      "  ...\n",
      "  [255 255 255]\n",
      "  [255 255 255]\n",
      "  [255 255 255]]]\n",
      "<NDArray 124x125x3 @cpu(0)>\n"
     ]
    }
   ],
   "source": [
    "# Read the image for digit 1 as NDArray tensor\n",
    "digit_1_tensor = mx.image.imread(\"../assets/digit_1.jpg\")\n",
    "print(digit_1_tensor)"
   ]
  },
  {
   "cell_type": "code",
   "execution_count": 26,
   "metadata": {},
   "outputs": [
    {
     "data": {
      "text/plain": [
       "<matplotlib.image.AxesImage at 0x1a2f37d7f0>"
      ]
     },
     "execution_count": 26,
     "metadata": {},
     "output_type": "execute_result"
    },
    {
     "data": {
      "image/png": "iVBORw0KGgoAAAANSUhEUgAAAQcAAAD8CAYAAAB6iWHJAAAABHNCSVQICAgIfAhkiAAAAAlwSFlzAAALEgAACxIB0t1+/AAAADl0RVh0U29mdHdhcmUAbWF0cGxvdGxpYiB2ZXJzaW9uIDIuMi4yLCBodHRwOi8vbWF0cGxvdGxpYi5vcmcvhp/UCwAAIABJREFUeJztnWuMZGeZ339PV09PT09PX2Z6bp4LtiVrs2SVBNRiYYkiC+9qMUF4I0EEQYmzsWRFYnfZS7TYyweSD0isslpglQ1ktLCYFcKAl8SWRZZFDmiVDzgMAYHBeO2Y8bjnfuvpme6ZvtWbD6eeU2+/9VZNT1dXdU33/ye1TtWpU+e8Xd31nP9zeZ/XQggIIURK30YPQAjRm8g4CCGyyDgIIbLIOAghssg4CCGyyDgIIbLIOAghsnTMOJjZO83sJTN7xcwe69R1hBCdwTpRBGVmFeDvgV8DpoDvAR8IIfx03S8mhOgI/R0671uAV0IIrwKY2ZPAQ0DWOExMTIS77767Q0MRQjgnTpzg4sWLtppjO2UcDgGvR8+ngF+ODzCzR4FHAY4ePcrx48c7NBQhhDM5ObnqYzsVc8hZphX+SwjhWAhhMoQwuXfv3g4NQwixVjplHKaAI9Hzw8DpDl1LCNEBOmUcvgfcZ2b3mNkA8H7gmQ5dSwjRAToScwghLJnZbwHfBCrA50MIP+nEtYQQnaFTAUlCCN8AvtGp8wshOosqJIUQWWQchBBZZByEEFlkHIQQWWQchBBZZByEEFlkHIQQWWQchBBZZByEEFlkHIQQWWQchBBZZByEEFlkHIQQWWQchBBZZByEEFlkHIQQWWQchBBZZByEEFlkHIQQWWQchBBZZByEEFk61n1aiPXEF3w2KxZTq1arAPT1Nd7fWi0O7e9fzTWanavVOVqd605DykEIkUXKQdwRpHfgnGJoduxar9HOuTYDUg5CiCxSDuKOIo0BxM9zd/lWx7d6X6vXVqMmNoPiWLNxMLMjwBeBA0AVOBZC+LSZ7Qa+AtwNnAD+ZQjhSvtDFVuZ5eXlFdulpaXyue/zIKUbgPg135cLFLqL0t/fXz6vVCoAbNu2reE1P97PsRkMQY523Iol4A9CCL8IvBX4kJm9EXgMeC6EcB/wXO25EOIOY83KIYRwBjhTe3zNzF4EDgEPAffXDnsC+A7wkbZGKbY01WqVxcVFAObn5wG4ceMGADdv3uTmzZsrXltYWCiP8X2uIHJ3e1cHO3fuBGDHjh0MDQ0BMDw8DMDg4CBQKAhXEbGaSM+5GViXgKSZ3Q28CXge2F8zHG5A9jV5z6NmdtzMjl+4cGE9hiGEWEfaDkia2TDw18DvhhBmVms9QwjHgGMAk5OTzatWxJanWq2W6uDatWsAzM7Ols9nZmYAuH79+ortzMxMeZwrj1yBk6uC3bt3AzA+Ps7ExATQGOMYGBgoj3fF0CqteifT1m9lZtsoDMOXQghfr+0+Z2YHa68fBM63N0QhxEbQTrbCgM8BL4YQ/jR66RngYeATte3TbY1QbHlyyuHixYsATE9P427ppUuXALh8+XL5/OrVqwDl+2Pl4NkNjzUcPHgQgMOHD5exCidWGa4UPFbhmY3NFnNox614O/CvgR+b2Q9r+/6Iwih81cweAU4C72tviGKr0Gw+QgihdAv8S+6G4OLFi5w+fRqAs2fPrtiePn26PM4DmLlrjIyMAJTuyfLyMtu3bwcoA5NuQPr6+koXw43LZqWdbMX/BpqZygfWel4hRG+gCkmx4cQFTVC/I/t2bm6OK1eKOjpXBefPny+fT01NAZTuRfyaKwdXHvHd3tWDvzY6OgrA1atXS6Xhr3l6dGBgoGGcKSGETeFibM4wqxCibaQcxIYSQijvxGkRkz+/du1aqQZiVeBb3+fqwlOZ8/PzTcunm43Ft62O2ypIOQghskg5iA0lLo32TIQXLvn2ypUrnDt3DqgrhjNnzpRb3+eKwd+3sLDQMBnLieMCqaqIlcNWVhAyDmJDid0KNw7+JZ+engaKQGPqVsTGwve5G+LGxrdrYTMEFNtFboUQIouUg9hQzKwhIOlugVc3Xr58uUxJxsVPvvVAZBp89Od+nfi1WBmkMzWlGgqkHIQQWaQcxIbjd3Mvhsr1bvB4hKc5/fnNmzfLfWlRUvzcH8cKYjXt4bayipByEEJkkXIQG05aLp0qiKWlpYYS61yqMV3wpp0y5q2cwnRkHMSGkwYQc+5F2gouNhapy+CYWYN7EH/pV2MAtrKRkFshhMgi5SDWjVb9GHL7fJvOcvTnHmhcWFjIuhp+bBrQjNu2+T5vBptzQ7xZSzy2dF+sQLZK6lPKQQiRRcpBdJwQQnbBGSiUQDqnwlvBefn01atXy9f82FyBkyuGuG2bP/bOTn5s3GLem8nu3bsXKBrMeucnf58fW6lUmqqgzaYgpByEEFmkHMS60ezOGUJoSEXGPRtcKXgPRy+HjkukXUW4gvBOTX5eaFQOlUqlfOxKwLdDQ0Nlf8h9+4qlVe66665yu2fPHqBxUZuBgYFSRTT7fTeLgpByEEJkkXIQ60Yz37tarZZ3+LjsGYrp2a4UvKW8K4a4J6S/5irD6x2q1WrDcnTx4rd+xx8bGwNg//79AOzZs6dUB77PYw979uwp9/lCN3EMws+/WZfBc2QcxLqRFgzFX5p05uXc3BxQBBtTNyJtBXfu3LnSKLhR8ZRmCKHBnfAv78DAQOk6ePNYDzoePXqUo0ePAnDgwAGg3qJ+aGiI8fFxoO5WuHHYtm3biuBk+nv6mDaDwZBbIYTIIuUg1o1mRUG5VnBxSzfv2+AKItezwZVGWmK9vLzcsGalK4fBwcHyju/K4dChQwDce++93HfffUA9EOkqo1KplI/TFGilUtn07oQj5SCEyCLlINaFVmXQ8aI0HmSMVYIvZ+d9If01T23Ozs6WsYpclyePAfhd3uMEu3btKgOKHlfwWML4+HgZpNy1axdQT1eaWak+4qIpWFmaLeVwC8ysYmY/MLNna8/vMbPnzexlM/uKmQ20P0whRLdZD+XwYeBFYKT2/I+BT4YQnjSzzwKPAJ9Zh+uIHmZhYaFhUpQXOs3MzJSKwVvK+/PTp083LHHnMQhXC/HkqpS+vr7yLr9jxw6gnnXYvXt3mZ1w5eDpyrGxsTKu4O+P1UKzdOVmVwsxbRkHMzsM/HPg48DvW/HJvQP4V7VDngD+IzIOdwytZlBCPtjox6TrSnoQ8fr16yuCiwCvvfYaUBgL3+fuhBsHr4KM273F7oSTzp9wt2LPnj1l9aPXNLibMTQ0VBqT3PyJ2H0AGp7Hn0Va37FZDEi7bsWngD8E/K+3B5gOIXhN6xRwKPdGM3vUzI6b2XG/iwgheoc1KwczezdwPoTwfTO733dnDs3qwRDCMeAYwOTk5NZtt7NJWFxcbGgMGysHnxvhroO7F6dOnWqofnTF4O9fXFzMrkoF+ZmXrhzGx8dLN8K3ntIcHh4ulcPAQBEWi+dM5DpH+Wspm0UppLTjVrwdeI+ZvQsYpIg5fAoYM7P+mno4DJxuf5hCiG6zZuMQQngceBygphz+Qwjhg2b2NeC9wJPAw8DT6zBOsYGs5s5YrVYbYg2uBK5cudK0NHpqaqpMWXqBlAc044Bks8KjSqVS3vm94MlTlHv37i3nSMS9GqAIWqbKIRdXaMVmVQxOJ4qgPkIRnHyFIgbxuQ5cQwjRYdalCCqE8B3gO7XHrwJvWY/zijuHpaWl8k7vSsBjCZcuXWrIRMQFTumCNTk/v1mJ9MDAQFnE5PEEVwfxzEtXE3F/hnTi1GZXAreLKiTFCm73C+Jf5Pn5+dKdaGUc3NWIg41pZWWrNSncKHiNwuDgYPnFd6Pg6cqJiYkyEOmvuesxMDBw227EVkOfjhAii5SDuCW5Ji7p3X1hYaFMQaYNYq9cuVI+TtOVN2/ebKis9HPGxU9+l/fgoacth4aGSrfCFYRvd+/e3eBW+PyJbdu2Ne3HIAqkHIQQWaQcxJpI7+6xcvCYg/dluHDhQhl/8D4O8fJ2rhjSmIOTmz/hsYORkZEVMy2BFTEIf+zByrjQaav0ZVgrUg5CiCxSDmJNpHf3XMwhbhzrKUzPUjRLW0LrQidXDq4EYuXgKsFnZe7atatMXfr71row7mZduKYVMg6bkPX+R06Xto8fe23DwsLCihWqoD4t+9y5c6WrkTMO6Xhd7vv+bdu2lanLeDo2FJ2jfTq27/MAZdwpOv1d1voZbCXkVgghskg5bELW+y4Xt31LV7T2NOTc3Fy5GlW6ctX09HQZiHSlEbeWd3JrXUKRvkwbxXpx0759+xrmTbgr4a5IfJ2tqADWipSDECKLlIO4JbmipLSJ7Pz8fEMq09OXly9fLmMNaawCGuc2pCnGSqVSFj15PCFWDmm3Jz9mYGBASqENpByEEFmkHMSqidvPx6tkQzG70uMKrhzi7IUf56rAz9PX17dCIUBjG/jt27c3LGsXT65KS6TjxrFSDmtHxmEL0CoYl2u/lroRcdu3tJGLb+NGsW4U4iCkBzDT5eur1WrDfAmf/+DPR0ZGSgOQtn2bmJhomHHp769UKpqO3QZyK4QQWaQctji52ZVputJTlJcvXy6DjK4S/PnJkyfLFavcrfB0JTS/c5tZqRzcHYhXrIIiRZkGHeM5E368Kw0/X6wcxO0j5SCEyCLlsIlZzTyCdO3JEEIZa4gLnKCIJXhL+ddffx2or285NTVVNo9NlUPc6t3xa+QaxKaFTnGj2FbKweMZfj4FJNtDykEIkUXKYRNyO4oh3S4uLpaxhrSo6cKFC0xNTQHw6quvAsWiNFDEHtI+kfHK2OkiMXEGxe/4nmXwWIOrhLjQKe0JOT4+Xk7GSouo4jSpuH1kHDYht/pCVKvVhi+Spx3jNS/dOHhA8urVq2Ug0tedOH36dPmaux/eyCVOiXoNg+OzJSuVShmIjAOQQGkQDhw4UBoKdznimgYPRKa/f5yWFbeP3AohRBYphy1IK2UxNzfX4E54f4arV682rDsRN4xNZ1x60DFu8+YKwp/nWsunBU979+5tCESmVZTNfk8ph7Uj5SCEyCLlsMXxu3u8PmW8OjasVAkef/BjXGXMz8+XiiFOi0Jxd3fF4GlGDz7u3LmzYb6Eb71Pw/79+8t98YpVUFcQzVBAcu20pRzMbMzMnjKzn5nZi2b2NjPbbWbfMrOXa9vx9RqsEKJ7tKscPg38TQjhvWY2AAwBfwQ8F0L4hJk9BjxGsbiu6EHSgqe4UawrB9/Ozs42KIa4xbwrhnR5u/7+/gblELeY91RkvBgN1JXDxMREmclwxRBPrloN6gR1+6zZOJjZCPDPgH8LEEJYABbM7CHg/tphT1AssCvjsIGkQbn4ubsTPgV7bm4u26wFirZvHpCMDQYUxqXZdfr6+lasUAX1lOTo6OiK6ddQT2F6VeS+fftKY5JWQcbzJ1p1slZg8vZpx624F7gA/KWZ/cDM/sLMdgL7QwhnAGrbfbk3m9mjZnbczI57l2IhRO/QjlvRD7wZ+O0QwvNm9mkKF2JVhBCOAccAJicnZdbXkVRCu7zPNYpNg49Xr14tlYIbbd9euXKlYcWqeLWqtDGspxl37NhRBhI9XekqYc+ePWVreXcj0oKn4eHhFUohPrfchM7RjnKYAqZCCM/Xnj9FYSzOmdlBgNr2fHtDFEJsBGtWDiGEs2b2upn9QgjhJeAB4Ke1n4eBT9S2T6/LSMWqSf3sNK6wsLBQPvb4gs+uPHfuXNOZlxcvXiyVQ9yrAYqiprTQye/uY2NjpSqIS6J9e/DgQaAeY0jbvfX39zd0dMophvT3jo+Rwrh92s1W/DbwpVqm4lXgNynUyFfN7BHgJPC+Nq8hhNgA2jIOIYQfApOZlx5o57xifUiVQ9wL0lORaXzh9OnT5WQqn3EZxxy8XNqVRy5dmXZkGh0dLWMMrhgOHToEwJEjR0pVka6IHWco0ia0ovOofFoIkUXl05uQuL4gxu/2N27c4NKlS0C9U7R3cTp//nypGF577TWgri7ihWtchcSZibQ02guXRkZGSnVw1113AXDvvfcCcPTo0TKD4TEG3/r54j6TqylmUnxhfZBx2GTExT4u+eMCJyjSlt6YJS10On/+fNmzIW01v7i42FD96Gzbtq2hxXzcMNZdBncvPPh44MCB0o3w93lg07e3mj8hOoPcCiFEFpnkHuZ25gPEd/S45RvU05WuBM6fP1+mKd2dOHnyJFB0eHKXIy14qlarpWJIx1apVMo7vCuAeJGaeC4F1GdXDg0NNcywTHs1xG3m4sa0orNIOQghskg59DCpYshNHkpXu45Lo9NekB5XOHv2bKkU4uInKNKVHpvwc7YiHlPa5SluEZ+qAd9WKpWGfc1W246vITqPlIMQIouUwyYh7vScK3qCunI4c+YMJ06cAOpdpD0uMTc3t2IBXGjsCQk0FCWZWXmnT6dVDw4ONvRhiAul/Hg/VzqBK445iO4h43AHkpszELsX/mX2QKJXNXpA8tSpU6Vx8JoGP3Z5eblMffp5WvVCyLWCywUm0zRlHHxMjUF67mq12lCzIWPReeRWCCGySDncAbRKaboL4Xf+mzdvNqQw04Kn6enpcp9vW7kO8baZiti2bVupDjxdGbd/S9u8xSojLXJKf0+tXLUxSDkIIbJIOfQwrXz9tDGspyvn5ubKcmfv9+izKl05zM7ONg025u7QaScpaOzZMDAwUBY6eTm0d3Tau3dv2SfSFYSXVrdalMZRQHJjkHIQQmSRcuhhbmfmoWcYpqeny1iDr4jtysE7Rc/OzjaUIediDenszr6+voYJV3Hhk8cYXDl4h6cDBw6UE6/8mDhr0WwWqbMadSHWHxmHO5S0CjJeCdurHb2GwY2Duxlzc3NN05S3ku9pcNSfb9++vQxEugsRz7xM3QoPTIreRSZZCJFFyqGHWUtA8tq1aytmX0K9+MmVw40bN5rOm4ivmVMVubkRUAQYXRV4INKbye7bt69BMbhbYWarUisKSHYfKQchRBYphx7G75bpGpQhhPJxOn9idna2DEh6StO3HpdYWFhoSF22avUez3lI5094+nJ4eLhUB96rIe7ZkC5n16xkutXnILqLlIMQIouUQw8TTzyCeql0PLnKFYNPrpqeni5jC14aHc+4hEI5pDGHnILwx/EsS48VeOwgLpWOlQLUVcXg4GDDcnZ+ztXEHMTGIOPQw6SViW4clpaWSnfCA5HuMly7dq2ccu0Gw1/z+RexcUivEdcUpAHJSqVSzp9wQ+B1C7t27VqVcUgbuYjeRX8hIUQWKYcexu/cfpeP+zTEqct4e/369YZ9rhzi+RTN3IpYLaR3+YGBgdKN8IrHeBurCKgrh+3bt5fuSG6G6e000hXdoy3lYGa/Z2Y/MbMXzOzLZjZoZveY2fNm9rKZfaW2jqYQ4g5jzcrBzA4BvwO8MYRww8y+CrwfeBfwyRDCk2b2WeAR4DPrMtotRtrlye/8s7OzKwKQUC9wunbtWhmI9H0eg/D5F0tLS9l5E7BSOcSKAQol4KrAFYMXPI2NjZVzKlxduHKIW8GlsY1WhV5iY2k35tAP7DCzfmAIOAO8A3iq9voTwG+0eQ0hxAawZuUQQjhlZn8CnARuAH8LfB+YDiEs1Q6bAg61Pcotit9l/c7v/RguXrxYTqo6c+YMUJ+Bee7cuRVl0rByURqoxy7ifXFxU9pi3tXCxMREWRLta176qtlHjx4tJ1e5qojTlU6qGBRn6F3acSvGgYeAe4Bp4GvAg5lDs7rRzB4FHoXiH0s0ktYyuHE4derUihWqoL7uxIULFxq6R3sKNK2bgMYqyDh46GlL/7Lv3buXQ4cKW3/kyBGgbiT27dtXHuduRc44iDuHdtyKXwV+HkK4EEJYBL4O/AowVnMzAA4Dp3NvDiEcCyFMhhAmfQVmIUTv0E4q8yTwVjMbonArHgCOA98G3gs8CTwMPN3uILcqfod398D7Mpw4cYKXX34ZqCsHD0zOzMyUqUt/nysHJ05jplWQuUaxrgj27dvH4cOHAbjnnnuAuoIYHR1taCzrgcwcUhO9z5qVQwjheYrA4/8Fflw71zHgI8Dvm9krwB7gc+swTiFEl2mrCCqE8DHgY8nuV4G3tHNeUZCmMD3QePbsWV577bXyMdTjEvPz8+XxvnVyMYd0Zevt27eX5c9pifTu3bvLgKS3gPMYxPDwcEOsIu7ZoADknYfKp4UQWVQ+3cN4rMCLl1wdzMzMNCxUE2cm0pW30/RhrkTa4wM7d+5sKHTyFOX4+Hj52Iuf/PnAwEBDr4fcKtnizkHGoYdpNmV7cXGxwXVwAxJCaKg6TI1CTubH61q6O+FffN/GQUefsu1Gpb+/v2XjGHHnIbdCCJFFyqGH8cIkJ1YSqeuwmpWwc+tDxMVPULgVcdFTvB0fH29a4KT+DJsP/UWFEFmkHHqY1HePYw9xy7j4tVyfhNVcw9OOIyMjZYyhlXJwpZEGH1d7XdH7SDkIIbJIOWwAuX6NaWem5eXlhoxErsFsGnOIC5zSOED8Whp/8OxD3LPB05W+3bVr14ruTvH7c41pxZ2NjEMXaFYdWK1Wyy933PwVCoNw6dIloD6nwudPxGtd5tyJ9Lq5bSr9/Uu+Y8eO0nVI16EYGhpq6U6IzYX+skKILFIOXSC9q8cVi64AfG0Jb/82MzNTKgafP+FVkXNzcw3uRK7qsdUK2qlb4QHJgYGBcm6FK4e4YawXPUkxbH70FxZCZJFy2GA8xuDKIV4Z2xXDqVOnyn1QNJhNuzvFpMohVS65tm2uHOKFa1xB+HZwcLCMNTi54KrYHOgvKoTIIuXQYeLMQHoHX1paKrs1uXLwOMOZM2c4ceIEUI85uHK4fv16Q3en3KSqZjGHEEJTNTE4OFimKz1rES9vl/ZqkGLYvMg4dIhWAcJ4JSuvYfCmsN7Q5eLFi2XTWJ+W7Qbk5s2bK2oWml07nSWZLmILjbMrd+7c2bDuRHyMjMLWQX9hIUQWKYcukM6g9O38/PyK1bGhrhwuX768YhUrqDeMXVxcbOoyxG5Fuv6Eb4eGhsrH6fyJkZGRsujJFUMcrEwrItX+bfMi5SCEyCLl0AXiNSrj7Y0bN8pYg289rjAzM1M+9tdcOSwsLDTEHOK+Cn43j5vGQl0JjI6OlkFGbxjr2+Hh4RWpy/g8OeUgxbB5kXIQQmSRclgDOT+7me+9uLhY3uXjSVVQKIE05uAq4dq1aw374sKntPw5NxvT93nswWMJo6OjjI+PA3XF4O3nx8fHyyxFvNCNnyddlVtsXvQXFkJkkXLoAmm2widbLSwsrFARUG8/Pzc3Vz6OYw3+/lYxB8cVg9cweCxhdHS07NEwMTEB1Hs2jIyMlMel07MrlYpiDFsIGYcukBoF387Pz5d9HFLjMDs7Wz72Y+JmL836McQBybSRi7sOe/bs4cCBA0B9lWxPZY6NjZXuR6veDTISm59buhVm9nkzO29mL0T7dpvZt8zs5dp2vLbfzOzPzOwVM/uRmb25k4MXQnSO1SiHLwD/BfhitO8x4LkQwifM7LHa848ADwL31X5+GfhMbbulcRcgtziNq4g0zRk3kfWtvz9Xmh0rh7TdfLpIzf79+8vVsVPlMDo6WgYk/TxqAbc1uaVyCCH8HXA52f0Q8ETt8RPAb0T7vxgKvguMmdnB9RqsEKJ7rDXmsD+EcAYghHDGzPbV9h8CXo+Om6rtO7P2IW4e0iawcQ9J38ZqoVkT2VbKoVKpNKQg40AkFEFIVwy+SrbHI+KJV+nCNVINW4v1TmXm/nuyixiY2aNmdtzMjvs0ZSFE77BW5XDOzA7WVMNB4Hxt/xRwJDruMHA6d4IQwjHgGMDk5OSmXgUlnaSUW5wmzWQsLCysSF3G5HpEtFIOrgRi5eCKwbeuLuJp2auZnq2JV5uXtRqHZ4CHgU/Utk9H+3/LzJ6kCERedfdjK5O6A3HdQyu3In2tWeNYWGkc0rkU/sV312H37t3s378foNx6LUR87pxR0GpWW4dbGgcz+zJwPzBhZlPAxyiMwlfN7BHgJPC+2uHfAN4FvALMAb/ZgTELIbrALY1DCOEDTV56IHNsAD7U7qA2G2kqM05JNmvptlrSYKGZNSiOXDVl2hVqtUFHuQ9bB82tEEJkUfl0h4gVwVpTgWmwLy6LThVHLh6R9l6IYwhpa3u1mBcp+k8QQmSRcugQrVRCTknkYge5GIWTKob02FuNLe3LIMUgUmQcOkyrdST89Zj4GA8Wpl/8+Jy5L3lqTFqtst3MPRFCtwshRBYphy6QLioTpxFdHaRVjf39/eVjT0k6OfeiVSAy58ZIOYhbIeUghMgi5dAh4rt1OlfBy5t37NhR9k5IV7TeuXNn+djP5XMtlpeXy1TkaoOb6VYBSXEr9B8hhMgi5dAF0phDrCBS5eAzKIeHh8sOTumdf35+vmUcIi2fTsuo42yFEM2QcegCLtk96OgzIKvVaoNR2LVrV7n119L2cktLS01X7q5Wqy0DkU6zmaJyL4Sj/wQhRBYphw4TByRTVwDq7oS7EL7dtWsXY2NjQOPdvK+vr6Ey0oOccbOWeB+sXLkqbR6rFKZIkXIQQmSRclgDubtsszLouJzZFYDfyZeXl8tuTa4SfO3K5eXl8py+uI2vnTk7O1uulOXnjouo/Px+7oMHiwbg8apWrhzS9wvhSDkIIbLodtFhzKwhlRmrDG/66gVO/trQ0FCpJtKl8m7evFke7wolLsl25eBbVyNveMMbgEJBeKzD3ydEioxDF2hWhdjX11dKfzcSzvbt20vjEHek9uee1kyvUalUGlKnfp54VSs3HApEimbIrRBCZJFy6AKpcojbtqUrWruCiF2HtMIxt8p2nJJM05Npi/o43dnsPEJIOQghskg5dIi4vNkfp23goV6YlFKtVps2j73VvAhXKGm3KKedprdi6yDlIITIIuXQYXJ9FmKaqYC450InxyREM2QcukArN6DVF7XZTMn4fK0a1K4GGQrRjFvemszs82Z23sxeiPb9ZzP7mZn9yMz+u5mNRa89bmavmNlLZvbrnRq4EKKzrEa3fgF4Z7LvW8AvhRD+EfD3wOMAZvZG4P3AP6y957+amUr/w5jZAAAE/klEQVTwaniaMf5ZzfHtXqPVjxDNuKVxCCH8HXA52fe3IQQv0fsucLj2+CHgyRDCfAjh5xSrbb9lHccrhOgS6xHx+nfA/6w9PgS8Hr02Vdu3pVnrXbrZ+3TnF92gLeNgZh8FloAv+a7MYdkImZk9ambHzez4hQsX2hmGEKIDrNk4mNnDwLuBD4Z6iHwKOBIddhg4nXt/COFYCGEyhDDpE4KEEL3DmoyDmb0T+AjwnhDCXPTSM8D7zWy7md0D3Af8n/aHKYToNresczCzLwP3AxNmNgV8jCI7sR34Vs3v/W4I4d+HEH5iZl8FfkrhbnwohNDYOFEI0fPc0jiEED6Q2f25Fsd/HPh4O4MSQmw8mlshhMhivbDykZldAGaBixs9lhoTaCw5NJY8vTQWaD2eN4QQVpUB6AnjAGBmx0MIkxs9DtBYmqGx5OmlscD6jUduhRAii4yDECJLLxmHYxs9gAiNJY/GkqeXxgLrNJ6eiTkIIXqLXlIOQogeoieMg5m9s9Yc5hUze6zL1z5iZt82sxfN7Cdm9uHa/t1m9i0ze7m2He/SeCpm9gMze7b2/B4ze742jq+Y2UA3xlG79piZPVVr7POimb1tAz+X36v9fV4wsy+b2WC3PpsmDY+yn4MV/Fntf/lHZvbmLoylI82XNtw41JrB/DnwIPBG4AO1pjHdYgn4gxDCLwJvBT5Uu/5jwHMhhPuA52rPu8GHgRej538MfLI2jivAI10aB8Cngb8JIfwD4B/XxtX1z8XMDgG/A0yGEH4JqFA0FerWZ/MFGhseNfscHqSYU3Qf8CjwmS6MpTPNl0IIG/oDvA34ZvT8ceDxDRzP08CvAS8BB2v7DgIvdeHahyn+0d4BPEsxBf4i0J/7rDo8lhHg59TiUtH+jfhcvE/IboqS/2eBX+/mZwPcDbxwq88B+G/AB3LHdWosyWv/AvhS7fGK7xLwTeBtq73OhisHeqhBjJndDbwJeB7YH0I4A1Db7uvCED4F/CFQrT3fA0yHetetbn429wIXgL+suTl/YWY72YDPJYRwCvgT4CRwBrgKfJ+N+2yg+eew0f/P69Z8qReMw6obxHR0EGbDwF8DvxtCmNmA678bOB9C+H68O3Notz6bfuDNwGdCCG+iKG/vajzIqfnzDwH3AHcBOynke0ovpN427G/WTvOlHL1gHFbdIKZTmNk2CsPwpRDC12u7z5nZwdrrB4HzHR7G24H3mNkJ4EkK1+JTwJiZ+ezZbn42U8BUCOH52vOnKIxFtz8XgF8Ffh5CuBBCWAS+DvwKG/fZQPPPYUP+n9ttvpSjF4zD94D7apHnAYoAyjPdurgVDSk+B7wYQvjT6KVngIdrjx+miEV0jBDC4yGEwyGEuyk+g/8VQvgg8G3gvd0aRzSes8DrZvYLtV0PUPTp6OrnUuMk8FYzG6r9vXwsG/LZ1Gj2OTwD/Jta1uKtwFV3PzpFx5ovdTqYtMoAy7sooqz/D/hol6/9Tymk1o+AH9Z+3kXh7z8HvFzb7u7imO4Hnq09vrf2B30F+BqwvYvj+CfA8dpn8z+A8Y36XID/BPwMeAH4K4pmQ135bIAvU8Q6Finuxo80+xwopPyf1/6Xf0yRYen0WF6hiC34/+9no+M/WhvLS8CDt3MtVUgKIbL0glshhOhBZByEEFlkHIQQWWQchBBZZByEEFlkHIQQWWQchBBZZByEEFn+PzdaNiTEQgrdAAAAAElFTkSuQmCC\n",
      "text/plain": [
       "<Figure size 432x288 with 1 Axes>"
      ]
     },
     "metadata": {},
     "output_type": "display_data"
    }
   ],
   "source": [
    "# Let us try to view the image! We use matplotlib library.\n",
    "# NOTE: Matplotlib can understand NDArray in NumPy format.\n",
    "# Hence, we convert MXNet NDArray to NumPy NDArray using *asnumpy()* function.\n",
    "\n",
    "import matplotlib.pyplot as plt\n",
    "plt.imshow(digit_1_tensor.asnumpy())"
   ]
  },
  {
   "cell_type": "markdown",
   "metadata": {},
   "source": [
    "# Help & Discussions\n",
    "To get help or ask questions, please use the [MXNet forum](https://discuss.mxnet.io/)"
   ]
  },
  {
   "cell_type": "markdown",
   "metadata": {},
   "source": [
    "# References\n",
    "1. Apache MXNet GLUON crash course - https://beta.mxnet.io/guide/crash-course/index.html"
   ]
  },
  {
   "cell_type": "markdown",
   "metadata": {},
   "source": [
    "# Appendix - 1 - More NDArray Operations\n",
    "\n",
    "NDArray provides hundreds of useful operations. Feel free to explore some of the following.\n",
    "* **Calculus:** nd.sin, nd.cos, nd.tan and more...\n",
    "* **Linear Algebra:** LQ Factorization(nd.linalg.gelqf), Matrix Multiplication (nd.linalg.gemm2)\n",
    "Cholesky Factorization(nd.linalg.potrf) and more...\n",
    "* **Neural Network Operations:** nd.FullyConnected, nd.BatchNorm_v1, nd.Convolution, nd.Dropout and more...\n",
    "* **Random Numbers:** nd.random.poisson, nd.random.uniform, nd.random.normal and more...\n",
    "* **Arithmetic Operations:** nd.abs, nd.add, nd.ceil, nd.exp, nd.add, nd.subtract, nd.multiply, nd.divide, nd.max, nd.min, nd.median and more...\n",
    "* **Logical Operations:** nd.logical_not, nd.logical_and, nd.logical_or, nd.logical_xor"
   ]
  },
  {
   "cell_type": "markdown",
   "metadata": {},
   "source": [
    "# Appendix - 2 - Automatic differentiation with `autograd`\n",
    "\n",
    "* Gradient computation is the foundational operation for `minimizing a (loss) function` \n",
    "* Gradient computation is achieved via the chain rule. However, computing by hand is complex for complex functions\n",
    "* With `autograd` package in MXNet, you can just inform MXNet that you need to compute gradient for a function and it will be automatically computed!\n",
    "* `autograd` keeps track (trace) of the equation computation (forward pass) ex: $y = x^2$ and it will compute gradient ex: $dy/dx = 2*x$"
   ]
  },
  {
   "cell_type": "markdown",
   "metadata": {},
   "source": [
    "Below we provide an example where:\n",
    "\n",
    "* Function:                  $f(x) = 2.X^2$\n",
    "\n",
    "* Gradient w.r.t x:          $df/dx = 4.X$"
   ]
  },
  {
   "cell_type": "code",
   "execution_count": 25,
   "metadata": {},
   "outputs": [
    {
     "name": "stdout",
     "output_type": "stream",
     "text": [
      "\n",
      "[[ 4.  8.]\n",
      " [12. 16.]]\n",
      "<NDArray 2x2 @cpu(0)>\n"
     ]
    }
   ],
   "source": [
    "# Import autograd\n",
    "from mxnet import autograd\n",
    "\n",
    "# Initialize X Tensor\n",
    "x = nd.array([[1, 2], [3, 4]])\n",
    "\n",
    "# Inform MXNet that we plan to store a gradient\n",
    "x.attach_grad()\n",
    "\n",
    "# Help the `autograd` to record the equation computation\n",
    "with autograd.record():\n",
    "    y = 2 * x * x\n",
    "\n",
    "# We can automatically compute the gradient of function y w.r.t x\n",
    "# This will work because, autograd has traced y = 2 * x * x computation and it knows, \n",
    "# for y.backward() it needs to do y = 4*x\n",
    "\n",
    "y.backward()\n",
    "\n",
    "# Let us see if this is the expected result `dy/dx = 4.X` i.e., [[4, 8],[12, 16]]\n",
    "print(x.grad)"
   ]
  }
 ],
 "metadata": {
  "kernelspec": {
   "display_name": "Python 3",
   "language": "python",
   "name": "python3"
  },
  "language_info": {
   "codemirror_mode": {
    "name": "ipython",
    "version": 3
   },
   "file_extension": ".py",
   "mimetype": "text/x-python",
   "name": "python",
   "nbconvert_exporter": "python",
   "pygments_lexer": "ipython3",
   "version": "3.6.5"
  }
 },
 "nbformat": 4,
 "nbformat_minor": 2
}
